{
 "cells": [
  {
   "cell_type": "markdown",
   "id": "415f3ec1",
   "metadata": {},
   "source": [
    "## Proyecto Python\n",
    "\n",
    "Dentro de los temas de nuestro curso hemos visto lo relacionado con:\n",
    "* Diccionarios\n",
    "* Listas\n",
    "* Modulos\n",
    "\n",
    "En el siguiente tema vamos a utilizar algunos paquetes o librerias existentes en python, como ejemplo vamos a conectarnos a servicios externos llamados APIs estos servicios nos permiten extraer información y procesarla desde nuestro código."
   ]
  },
  {
   "cell_type": "code",
   "execution_count": 1,
   "id": "6bfd4342",
   "metadata": {},
   "outputs": [
    {
     "name": "stdout",
     "output_type": "stream",
     "text": [
      "{\"name\":\"Luke Skywalker\",\"height\":\"172\",\"mass\":\"77\",\"hair_color\":\"blond\",\"skin_color\":\"fair\",\"eye_color\":\"blue\",\"birth_year\":\"19BBY\",\"gender\":\"male\",\"homeworld\":\"https://swapi.py4e.com/api/planets/1/\",\"films\":[\"https://swapi.py4e.com/api/films/1/\",\"https://swapi.py4e.com/api/films/2/\",\"https://swapi.py4e.com/api/films/3/\",\"https://swapi.py4e.com/api/films/6/\",\"https://swapi.py4e.com/api/films/7/\"],\"species\":[\"https://swapi.py4e.com/api/species/1/\"],\"vehicles\":[\"https://swapi.py4e.com/api/vehicles/14/\",\"https://swapi.py4e.com/api/vehicles/30/\"],\"starships\":[\"https://swapi.py4e.com/api/starships/12/\",\"https://swapi.py4e.com/api/starships/22/\"],\"created\":\"2014-12-09T13:50:51.644000Z\",\"edited\":\"2014-12-20T21:17:56.891000Z\",\"url\":\"https://swapi.py4e.com/api/people/1/\"}\n"
     ]
    },
    {
     "name": "stderr",
     "output_type": "stream",
     "text": [
      "/Users/gigigo/venv/lib/python3.9/site-packages/requests/__init__.py:102: RequestsDependencyWarning: urllib3 (1.26.15) or chardet (5.1.0)/charset_normalizer (2.0.12) doesn't match a supported version!\n",
      "  warnings.warn(\"urllib3 ({}) or chardet ({})/charset_normalizer ({}) doesn't match a supported \"\n"
     ]
    }
   ],
   "source": [
    "import requests\n",
    "\n",
    "url = \"https://swapi.py4e.com/api/people/1\"\n",
    "\n",
    "payload = {}\n",
    "headers = {}\n",
    "\n",
    "response = requests.request(\"GET\", url, headers=headers, data=payload)\n",
    "\n",
    "print(response.text)\n"
   ]
  },
  {
   "cell_type": "markdown",
   "id": "696e5b2f",
   "metadata": {},
   "source": [
    "En el ejemplo anterior vemos que accedemos una direccion url la cual nos entrega la información que vamos a procesar.\n"
   ]
  },
  {
   "cell_type": "code",
   "execution_count": 7,
   "id": "f3010d11",
   "metadata": {},
   "outputs": [
    {
     "name": "stdout",
     "output_type": "stream",
     "text": [
      "['name', 'height', 'mass', 'hair_color', 'skin_color', 'eye_color', 'birth_year', 'gender', 'homeworld', 'films', 'species', 'vehicles', 'starships', 'created', 'edited', 'url']\n"
     ]
    }
   ],
   "source": [
    "diccionario = response.json()\n",
    "keys = [i for i in diccionario.keys()]\n",
    "print(keys)"
   ]
  }
 ],
 "metadata": {
  "kernelspec": {
   "display_name": "Python 3 (ipykernel)",
   "language": "python",
   "name": "python3"
  },
  "language_info": {
   "codemirror_mode": {
    "name": "ipython",
    "version": 3
   },
   "file_extension": ".py",
   "mimetype": "text/x-python",
   "name": "python",
   "nbconvert_exporter": "python",
   "pygments_lexer": "ipython3",
   "version": "3.9.14"
  }
 },
 "nbformat": 4,
 "nbformat_minor": 5
}
